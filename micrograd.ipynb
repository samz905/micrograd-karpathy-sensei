{
  "cells": [
    {
      "cell_type": "code",
      "execution_count": 589,
      "id": "0cc7e74a-bdd4-4606-89d4-974576d4137a",
      "metadata": {
        "colab": {
          "base_uri": "https://localhost:8080/"
        },
        "id": "0cc7e74a-bdd4-4606-89d4-974576d4137a",
        "outputId": "8ae58c34-a4e3-41a4-d67b-d08df46cf6a8"
      },
      "outputs": [
        {
          "output_type": "stream",
          "name": "stdout",
          "text": [
            "--------DONE--------\n"
          ]
        }
      ],
      "source": [
        "class Value:\n",
        "    # _var is a variable intended for internal use within a class\n",
        "    # self._var = var makes it publicly accessible as obj.var instead of obj._var\n",
        "    def __init__(self, data, _children=(), _op='', _exp='', label=''):\n",
        "        self.data = data\n",
        "        self.grad = 0.0\n",
        "        self._backward = lambda: None # Function to calculate local grads of the input nodes to this output node\n",
        "        self._prev = set(_children)\n",
        "        self._op = _op\n",
        "        self.exp = _exp\n",
        "\n",
        "\n",
        "    # The __repr__ method provides a string representation of the instance, which is useful for debugging and displaying the object\n",
        "    def __repr__(self):\n",
        "        return f\"Value(data={self.data})\"\n",
        "\n",
        "\n",
        "    # The __add__ method is a special method used to define the behavior of the addition operator (+) for instances of a class\n",
        "    # Internally, the expression 'a + b' calls a.__add__(b)\n",
        "    def __add__(self, other):\n",
        "        other = other if isinstance(other, Value) else Value(other) # So that we can add a numeric value directly to a Value object like Value(3.0) + 4\n",
        "        out = Value(self.data + other.data, (self, other), '+', f\"{self} + {other}\")\n",
        "\n",
        "        def _backward():\n",
        "            self.grad += out.grad # += because if b = a + a, the db/da should be 2 but self first becomes 1 and then other (which is also a) becomes 1 so we want to accumulate instead of overwrite. Also if z = x + y and w = x * y, backprop must add dz/dx and dw/dx for x and so for y\n",
        "            other.grad += out.grad\n",
        "\n",
        "        out._backward = _backward # Not out._backward = _backward() as lambda functions return None and also the object's _backward attribute has a function value so passing _backward() will pass its returned value, not the function itself. We simply set the function to out._backward and not it's executed value\n",
        "        return out\n",
        "\n",
        "\n",
        "    def __radd__(self, other):\n",
        "      other = other if isinstance(other, Value) else Value(other)\n",
        "      return other + self\n",
        "\n",
        "\n",
        "    # The __sub__ method is a special method used to define the behavior of the subtraction operator (-) for instances of a class\n",
        "    def __sub__(self, other):\n",
        "        return self + (-other)\n",
        "\n",
        "\n",
        "    # The __mul__ method is a special method used to define the behavior of the multiplication operator (*) for instances of a class\n",
        "    def __mul__(self, other):\n",
        "        other = other if isinstance(other, Value) else Value(other)\n",
        "        out = Value(self.data * other.data, (self, other), '*', f\"{self} * {other}\")\n",
        "\n",
        "        # Multiply by out.grad because we are applying the chain rule from the output back to that local layer or expression\n",
        "        def _backward():\n",
        "            self.grad += other.data * out.grad\n",
        "            other.grad += self.data * out.grad\n",
        "\n",
        "        out._backward = _backward\n",
        "        return out\n",
        "\n",
        "\n",
        "    # Something like 2 * Value(3.0) will throw an error as we have defined self * other where self is the Value object. __rmul__ will swap the expression so that 2 * Value(3.0) will become Value(3.0) * 2 and now this goes to __mul__\n",
        "    def __rmul__(self, other):\n",
        "        return self * other\n",
        "\n",
        "\n",
        "    # The __truediv__ method is a special method used to define the behavior of the division operator (/) for instances of a class\n",
        "    def __truediv__(self, other):\n",
        "        return Value(self * other**-1, (self, other), '/', f\"{self} / {other}\") # We expressed / as a * equation so that the definition of * handles backprop without needing to redefine it\n",
        "\n",
        "\n",
        "    # The __neg__ method is a special method used to define the behavior of the negative operator (-) for instances of a class\n",
        "    def __neg__(self):\n",
        "        out = Value(self.data * -1, (self,), '-', f\"-{self}\")\n",
        "\n",
        "        def _backward():\n",
        "            self.grad += -1 * out.grad\n",
        "\n",
        "        out._backward = _backward\n",
        "        return out\n",
        "\n",
        "\n",
        "    # The __pow__ method is a special method used to define the behavior of the power operator (**) for instances of a class\n",
        "    def __pow__(self, other):\n",
        "        # assert isinstance(other, (int, float))\n",
        "        other = other if isinstance(other, Value) else Value(other)\n",
        "        out = Value(self.data ** other.data, (self, other), '**', f\"{self} ^ {other}\")\n",
        "\n",
        "        def _backward():\n",
        "            self.grad += other.data * self.data**(other.data - 1) * out.grad\n",
        "\n",
        "        out._backward = _backward\n",
        "        return out\n",
        "\n",
        "\n",
        "    def tanh(self): # Can be called as x = Value(3, label='x'); x.tanh()\n",
        "        x = self.data\n",
        "        tanh = (math.exp(2*x) - 1) / (math.exp(2*x) + 1)\n",
        "        out = Value(tanh, (self, ), label='tanh')\n",
        "\n",
        "        def _backward():\n",
        "            self.grad += (1 - tanh**2) * out.grad\n",
        "\n",
        "        out._backward = _backward\n",
        "        return out\n",
        "\n",
        "\n",
        "    def exp(self):\n",
        "        x = self.data\n",
        "        out = Value(math.exp(x), (self, ), 'exp')\n",
        "\n",
        "        def _backward():\n",
        "            self.grad += out.data * out.grad\n",
        "\n",
        "        out._backward = _backward\n",
        "        return out\n",
        "\n",
        "\n",
        "    def backward(self):\n",
        "        # topological order all of the children in the graph\n",
        "        topo = []\n",
        "        visited = set()\n",
        "        def build_topo(v):\n",
        "            if v not in visited:\n",
        "                visited.add(v)\n",
        "                for child in v._prev:\n",
        "                    build_topo(child)\n",
        "                topo.append(v)\n",
        "        build_topo(self)\n",
        "\n",
        "        # This function is expected to be called on the output node to initiate backprop from there so o.backward() will initiate backprop. Remember that we are finding grads for each weight as the derivative of the output w.r.t to that weight and for the output itself, do/do = 1\n",
        "        self.grad = 1.0\n",
        "\n",
        "        for node in reversed(topo): # Reversed because the list is ordered from input layer to output layer and we wanna go in the backwards direction starting from the output for backprop\n",
        "            node._backward()\n",
        "\n",
        "print(\"--------DONE--------\")"
      ]
    },
    {
      "cell_type": "code",
      "execution_count": 590,
      "id": "aee04213-1fd5-4177-953b-bc7688ba2844",
      "metadata": {
        "id": "aee04213-1fd5-4177-953b-bc7688ba2844"
      },
      "outputs": [],
      "source": [
        "a = Value(3, label='a')\n",
        "b = Value(4, label='b')\n",
        "d = a + b; d.label='d'\n",
        "e = 4*d - 5\n",
        "e.backward()"
      ]
    },
    {
      "cell_type": "code",
      "source": [
        "a.grad, a"
      ],
      "metadata": {
        "colab": {
          "base_uri": "https://localhost:8080/"
        },
        "id": "uTSueAzhD8kO",
        "outputId": "1f337967-7d51-4ddf-9ee6-63aeff20af82"
      },
      "id": "uTSueAzhD8kO",
      "execution_count": 591,
      "outputs": [
        {
          "output_type": "execute_result",
          "data": {
            "text/plain": [
              "(4.0, Value(data=3))"
            ]
          },
          "metadata": {},
          "execution_count": 591
        }
      ]
    },
    {
      "cell_type": "code",
      "execution_count": 592,
      "id": "aa52b239-59c1-4be4-a815-27258366f937",
      "metadata": {
        "colab": {
          "base_uri": "https://localhost:8080/"
        },
        "id": "aa52b239-59c1-4be4-a815-27258366f937",
        "outputId": "3914170d-8e13-48aa-8e3f-f65bb64fd151"
      },
      "outputs": [
        {
          "output_type": "execute_result",
          "data": {
            "text/plain": [
              "Value(data=23)"
            ]
          },
          "metadata": {},
          "execution_count": 592
        }
      ],
      "source": [
        "e"
      ]
    },
    {
      "cell_type": "code",
      "execution_count": 593,
      "id": "21e14ca3-8998-4ef1-9e5c-a873b3143350",
      "metadata": {
        "colab": {
          "base_uri": "https://localhost:8080/"
        },
        "id": "21e14ca3-8998-4ef1-9e5c-a873b3143350",
        "outputId": "7766d5f9-45d1-4d3f-ec2e-a9950902105f"
      },
      "outputs": [
        {
          "output_type": "execute_result",
          "data": {
            "text/plain": [
              "23"
            ]
          },
          "metadata": {},
          "execution_count": 593
        }
      ],
      "source": [
        "e.data"
      ]
    },
    {
      "cell_type": "code",
      "execution_count": 594,
      "id": "81b7cc91-182d-4da2-a7fe-07f5c9086d0d",
      "metadata": {
        "colab": {
          "base_uri": "https://localhost:8080/"
        },
        "id": "81b7cc91-182d-4da2-a7fe-07f5c9086d0d",
        "outputId": "a7edaf6b-f868-4ec0-debe-8e1e9c86bf98"
      },
      "outputs": [
        {
          "output_type": "execute_result",
          "data": {
            "text/plain": [
              "({Value(data=3), Value(data=4)}, 'Value(data=3) + Value(data=4)')"
            ]
          },
          "metadata": {},
          "execution_count": 594
        }
      ],
      "source": [
        "d._prev, d.exp"
      ]
    },
    {
      "cell_type": "code",
      "execution_count": 595,
      "id": "34714777-b5a6-4a10-8cc2-a44828bd5b05",
      "metadata": {
        "id": "34714777-b5a6-4a10-8cc2-a44828bd5b05"
      },
      "outputs": [],
      "source": [
        "# !pip install graphviz"
      ]
    },
    {
      "cell_type": "code",
      "execution_count": 596,
      "id": "8f6569ea-96bb-4277-a89a-caed3d3ba10d",
      "metadata": {
        "id": "8f6569ea-96bb-4277-a89a-caed3d3ba10d"
      },
      "outputs": [],
      "source": [
        "# from graphviz import Digraph\n",
        "\n",
        "# def trace(root):\n",
        "#     nodes, edges = set(), set()\n",
        "#     def build(v):\n",
        "#         if v not in nodes:\n",
        "#             nodes.add(v)\n",
        "#             for child in v._prev:\n",
        "#                 edges.add((child, v))\n",
        "#                 build(child)\n",
        "#     build(root)\n",
        "#     return nodes, edges\n",
        "\n",
        "# def draw_dot(root, format='svg', rankdir='LR'):\n",
        "#     \"\"\"\n",
        "#     format: png | svg | ...\n",
        "#     rankdir: TB (top to bottom graph) | LR (left to right)\n",
        "#     \"\"\"\n",
        "#     assert rankdir in ['LR', 'TB']\n",
        "#     nodes, edges = trace(root)\n",
        "#     dot = Digraph(format=format, graph_attr={'rankdir': rankdir}) #, node_attr={'rankdir': 'TB'})\n",
        "\n",
        "#     for n in nodes:\n",
        "#         dot.node(name=str(id(n)), label = \"{ data %.4f | grad %.4f }\" % (n.data, n.grad), shape='record')\n",
        "#         if n._op:\n",
        "#             dot.node(name=str(id(n)) + n._op, label=n._op)\n",
        "#             dot.edge(str(id(n)) + n._op, str(id(n)))\n",
        "\n",
        "#     for n1, n2 in edges:\n",
        "#         dot.edge(str(id(n1)), str(id(n2)) + n2._op)\n",
        "\n",
        "#     return dot"
      ]
    },
    {
      "cell_type": "code",
      "execution_count": 597,
      "id": "7d869fa7-1909-4ce3-b3e8-8c5c543b15e6",
      "metadata": {
        "id": "7d869fa7-1909-4ce3-b3e8-8c5c543b15e6"
      },
      "outputs": [],
      "source": [
        "# draw_dot(d)"
      ]
    },
    {
      "cell_type": "code",
      "execution_count": 598,
      "id": "20b799fe-1d58-4ede-a871-bedc66eec332",
      "metadata": {
        "id": "20b799fe-1d58-4ede-a871-bedc66eec332"
      },
      "outputs": [],
      "source": [
        "import random, math\n",
        "\n",
        "class Neuron:\n",
        "    def __init__(self, nin):\n",
        "        self.w = [Value(random.uniform(-1,1)) for _ in range(nin)]\n",
        "        self.b = Value(random.uniform(-1,1))\n",
        "\n",
        "    def parameters(self):\n",
        "      return self.w + [self.b]\n",
        "\n",
        "    # This is what is returned when an object of Neuron is called with some x like n(x) below\n",
        "    def __call__(self, x):\n",
        "        # sum takes an optional second argument to begin adding to instead of 0 which is the same as saying activation = sum(wi * xi for wi, xi in zip(self.w, x)) + self.b\n",
        "        activation = sum((wi * xi for wi, xi in zip(self.w, x)), self.b)\n",
        "        o = activation.tanh()\n",
        "        return o"
      ]
    },
    {
      "cell_type": "code",
      "execution_count": 599,
      "id": "049aafaa-da19-4036-a302-3d4bb81c7438",
      "metadata": {
        "colab": {
          "base_uri": "https://localhost:8080/"
        },
        "id": "049aafaa-da19-4036-a302-3d4bb81c7438",
        "outputId": "7106bfe7-4332-4cc3-cf0e-12eb1395db55"
      },
      "outputs": [
        {
          "output_type": "execute_result",
          "data": {
            "text/plain": [
              "Value(data=-0.02178200113679778)"
            ]
          },
          "metadata": {},
          "execution_count": 599
        }
      ],
      "source": [
        "x = [2.0, 3.0]\n",
        "n = Neuron(2)\n",
        "n(x)"
      ]
    },
    {
      "cell_type": "code",
      "execution_count": 600,
      "id": "b8c96a02-9b65-4c5d-a84d-584feccbd97a",
      "metadata": {
        "id": "b8c96a02-9b65-4c5d-a84d-584feccbd97a"
      },
      "outputs": [],
      "source": [
        "class Layer:\n",
        "    def __init__(self, nin, nout):\n",
        "        # Each i/p feature feeds into each neuron (Neuron(nin)) and we want nout such neurons in the layer\n",
        "        self.neurons = [Neuron(nin) for _ in range(nout)]\n",
        "\n",
        "    def parameters(self):\n",
        "      return [params for neuron in self.neurons for params in neuron.parameters()]\n",
        "\n",
        "    def __call__(self, x):\n",
        "        # 1 output from each neuron in the layer\n",
        "        outs = [n(x) for n in self.neurons]\n",
        "        return outs[0] if len(outs) == 1 else outs"
      ]
    },
    {
      "cell_type": "code",
      "execution_count": 601,
      "id": "fd4ee109-033c-48e8-acba-6a700a3d7d2a",
      "metadata": {
        "colab": {
          "base_uri": "https://localhost:8080/"
        },
        "id": "fd4ee109-033c-48e8-acba-6a700a3d7d2a",
        "outputId": "0dea4e97-b45b-4138-f818-8c9f37133dbc"
      },
      "outputs": [
        {
          "output_type": "execute_result",
          "data": {
            "text/plain": [
              "[Value(data=0.998231175563085),\n",
              " Value(data=0.2243891976026087),\n",
              " Value(data=0.9975405390438826)]"
            ]
          },
          "metadata": {},
          "execution_count": 601
        }
      ],
      "source": [
        "x = [2.0, 3.0]\n",
        "n = Layer(2, 3)\n",
        "n(x)"
      ]
    },
    {
      "cell_type": "code",
      "execution_count": 602,
      "id": "63e54b63-fe9c-4ff1-9e36-ec931dbe74fc",
      "metadata": {
        "id": "63e54b63-fe9c-4ff1-9e36-ec931dbe74fc"
      },
      "outputs": [],
      "source": [
        "class MLP:\n",
        "    # nout is a list containing the number of neurons in each layer\n",
        "    def __init__(self, nin, nout):\n",
        "        # For (4, [2, 3, 5]), [4] + [2, 3, 5] = [4, 2, 3, 5]\n",
        "        tot = [nin] + nout\n",
        "        # For (4, [3, 4, 1]), first layer will be 4 inputs each feeding into 3 neurons (layer(4, 3)), then those 3 neurons as inputs each feeding into 4 neurons, then those 4 into the output layer (layer(4, 1))\n",
        "        self.layers = [Layer(tot[i], tot[i + 1]) for i in range(len(nout))]\n",
        "\n",
        "    def parameters(self):\n",
        "      return [params for layer in self.layers for params in layer.parameters()]\n",
        "\n",
        "    def __call__(self, x):\n",
        "        for layer in self.layers:\n",
        "          x = layer(x)\n",
        "        # The nn output is the output of the last layer\n",
        "        return x"
      ]
    },
    {
      "cell_type": "code",
      "execution_count": 603,
      "id": "bdcbe266-f79c-4c31-a88a-c18803e6bfec",
      "metadata": {
        "colab": {
          "base_uri": "https://localhost:8080/"
        },
        "id": "bdcbe266-f79c-4c31-a88a-c18803e6bfec",
        "outputId": "8d61ebb9-c1c8-4a23-966a-8eb85913daf7"
      },
      "outputs": [
        {
          "output_type": "execute_result",
          "data": {
            "text/plain": [
              "Value(data=-0.9706925899357141)"
            ]
          },
          "metadata": {},
          "execution_count": 603
        }
      ],
      "source": [
        "x = [2.0, 3.0, -1]\n",
        "n = MLP(3, [4, 4, 1])\n",
        "n(x)"
      ]
    },
    {
      "cell_type": "code",
      "source": [
        "n.parameters()"
      ],
      "metadata": {
        "colab": {
          "base_uri": "https://localhost:8080/"
        },
        "id": "Es5nLKAVX8Tg",
        "outputId": "f28d3b16-ceb3-404d-d1b0-3d1d335211c8"
      },
      "id": "Es5nLKAVX8Tg",
      "execution_count": 604,
      "outputs": [
        {
          "output_type": "execute_result",
          "data": {
            "text/plain": [
              "[Value(data=0.36971441689094875),\n",
              " Value(data=-0.615486158689885),\n",
              " Value(data=0.24207821520476536),\n",
              " Value(data=0.5503890246959218),\n",
              " Value(data=-0.7861422889104617),\n",
              " Value(data=0.027664895530653544),\n",
              " Value(data=0.6535919955148117),\n",
              " Value(data=-0.6780615587909062),\n",
              " Value(data=-0.06894622633896463),\n",
              " Value(data=-0.18413369869193197),\n",
              " Value(data=0.5262484127965836),\n",
              " Value(data=0.5543300831611966),\n",
              " Value(data=-0.12042395557921792),\n",
              " Value(data=0.6219461715576238),\n",
              " Value(data=-0.7533381374191139),\n",
              " Value(data=0.8825871823123843),\n",
              " Value(data=0.7985727001021687),\n",
              " Value(data=0.03529669330228602),\n",
              " Value(data=0.22857009721582844),\n",
              " Value(data=0.27753920418634936),\n",
              " Value(data=0.48295079841770017),\n",
              " Value(data=-0.7517448661300883),\n",
              " Value(data=0.5374470286633526),\n",
              " Value(data=0.7445669796182788),\n",
              " Value(data=0.9051400098903977),\n",
              " Value(data=0.796151529573855),\n",
              " Value(data=0.546136644383018),\n",
              " Value(data=-0.9476082684196419),\n",
              " Value(data=0.2746563897144576),\n",
              " Value(data=-0.1847980235443747),\n",
              " Value(data=0.5444402818978511),\n",
              " Value(data=-0.603635661849337),\n",
              " Value(data=-0.09500407061871297),\n",
              " Value(data=-0.9385426985280656),\n",
              " Value(data=0.08438149336946754),\n",
              " Value(data=0.6643505327589876),\n",
              " Value(data=0.5530964075658864),\n",
              " Value(data=-0.5117859348398002),\n",
              " Value(data=-0.5661865124319556),\n",
              " Value(data=-0.9870412720167381),\n",
              " Value(data=-0.40445602441269757)]"
            ]
          },
          "metadata": {},
          "execution_count": 604
        }
      ]
    },
    {
      "cell_type": "code",
      "execution_count": 605,
      "id": "ad707211-2554-4d5a-b520-219f5e7ddba1",
      "metadata": {
        "colab": {
          "base_uri": "https://localhost:8080/"
        },
        "id": "ad707211-2554-4d5a-b520-219f5e7ddba1",
        "outputId": "d05e6ae7-305f-4f4d-deb1-809d07dcd512"
      },
      "outputs": [
        {
          "output_type": "execute_result",
          "data": {
            "text/plain": [
              "[Value(data=-0.9706925899357141),\n",
              " Value(data=0.1497306026815109),\n",
              " Value(data=-0.6495141371587563),\n",
              " Value(data=-0.9325617860026163)]"
            ]
          },
          "metadata": {},
          "execution_count": 605
        }
      ],
      "source": [
        "# Trying out on a tiny dataset\n",
        "xs = [\n",
        "    [2, 3, -1],\n",
        "    [3, -1, 0.5],\n",
        "    [0.5, 1, 1],\n",
        "    [1, 1, -1],\n",
        "]\n",
        "\n",
        "ys = [1, -1, -1, 1]\n",
        "\n",
        "ypred = [n(x) for x in xs]\n",
        "ypred"
      ]
    },
    {
      "cell_type": "code",
      "execution_count": 606,
      "id": "cbe71eb7-cd28-4762-a549-af7a4ed8d720",
      "metadata": {
        "colab": {
          "base_uri": "https://localhost:8080/"
        },
        "id": "cbe71eb7-cd28-4762-a549-af7a4ed8d720",
        "outputId": "b7ecbfc3-06d2-4449-a79d-06e24c09ae5f"
      },
      "outputs": [
        {
          "output_type": "execute_result",
          "data": {
            "text/plain": [
              "Value(data=9.063145139539117)"
            ]
          },
          "metadata": {},
          "execution_count": 606
        }
      ],
      "source": [
        "loss = sum([(ypredi - ysi)**2 for ysi, ypredi in zip(ys, ypred)])\n",
        "loss\n",
        "# loss = sum([loss_val.data for loss_val in t_loss])\n",
        "# loss"
      ]
    },
    {
      "cell_type": "code",
      "source": [
        "# Before backprop\n",
        "n.layers[0].neurons[0].w[0]"
      ],
      "metadata": {
        "colab": {
          "base_uri": "https://localhost:8080/"
        },
        "id": "bkUW6TFUzds2",
        "outputId": "780d6db7-ee00-43ee-aa24-d777b9cfe892"
      },
      "id": "bkUW6TFUzds2",
      "execution_count": 607,
      "outputs": [
        {
          "output_type": "execute_result",
          "data": {
            "text/plain": [
              "Value(data=0.36971441689094875)"
            ]
          },
          "metadata": {},
          "execution_count": 607
        }
      ]
    },
    {
      "cell_type": "code",
      "execution_count": 608,
      "id": "f3c99683-cd69-4111-898a-66bcb46dacb1",
      "metadata": {
        "id": "f3c99683-cd69-4111-898a-66bcb46dacb1"
      },
      "outputs": [],
      "source": [
        "loss.backward()"
      ]
    },
    {
      "cell_type": "code",
      "execution_count": 609,
      "id": "b473af0c-e144-41ae-97f2-d4585ecd4afe",
      "metadata": {
        "colab": {
          "base_uri": "https://localhost:8080/"
        },
        "id": "b473af0c-e144-41ae-97f2-d4585ecd4afe",
        "outputId": "f37258f2-23a9-465d-9426-67e5185282fa"
      },
      "outputs": [
        {
          "output_type": "execute_result",
          "data": {
            "text/plain": [
              "(0.36971441689094875, -0.08566754412032315)"
            ]
          },
          "metadata": {},
          "execution_count": 609
        }
      ],
      "source": [
        "# After backprop\n",
        "n.layers[0].neurons[0].w[0].data, n.layers[0].neurons[0].w[0].grad"
      ]
    },
    {
      "cell_type": "code",
      "source": [
        "ypred = [n(x) for x in xs]\n",
        "ypred"
      ],
      "metadata": {
        "colab": {
          "base_uri": "https://localhost:8080/"
        },
        "id": "waZ4g_snbQN5",
        "outputId": "5e4f9fdd-09fb-4d7c-cae6-66172a33c064"
      },
      "id": "waZ4g_snbQN5",
      "execution_count": 610,
      "outputs": [
        {
          "output_type": "execute_result",
          "data": {
            "text/plain": [
              "[Value(data=-0.9706925899357141),\n",
              " Value(data=0.1497306026815109),\n",
              " Value(data=-0.6495141371587563),\n",
              " Value(data=-0.9325617860026163)]"
            ]
          },
          "metadata": {},
          "execution_count": 610
        }
      ]
    },
    {
      "cell_type": "code",
      "source": [
        "# # Gradient descent\n",
        "# for param in n.parameters():\n",
        "#   param.data += -0.001 * param.grad"
      ],
      "metadata": {
        "id": "gcS_QkVZcigx"
      },
      "id": "gcS_QkVZcigx",
      "execution_count": 611,
      "outputs": []
    },
    {
      "cell_type": "code",
      "source": [
        "ypred = [n(x) for x in xs]\n",
        "loss = sum([(ypredi - ysi)**2 for ysi, ypredi in zip(ys, ypred)])\n",
        "print(\"Loss: \", loss)\n",
        "print(\"Y pred: \", ypred)"
      ],
      "metadata": {
        "colab": {
          "base_uri": "https://localhost:8080/"
        },
        "id": "D64kMycLan3M",
        "outputId": "26f831f1-62ed-4ab9-a957-e1b63f2123b1"
      },
      "id": "D64kMycLan3M",
      "execution_count": 638,
      "outputs": [
        {
          "output_type": "stream",
          "name": "stdout",
          "text": [
            "Loss:  Value(data=0.10902120517123255)\n",
            "Y pred:  [Value(data=0.8728778366877895), Value(data=-0.8206863164300601), Value(data=-0.8355052821396477), Value(data=0.8165626770619491)]\n"
          ]
        }
      ]
    },
    {
      "cell_type": "code",
      "source": [
        "# Building a training loop\n",
        "for i in range(500):\n",
        "  # Forward pass\n",
        "  ypred = [n(x) for x in xs]\n",
        "  loss = sum([(ypredi - ysi)**2 for ysi, ypredi in zip(ys, ypred)])\n",
        "\n",
        "  #Backprop\n",
        "  loss.backward()\n",
        "\n",
        "  # Gradient descent\n",
        "  for param in n.parameters():\n",
        "    param.data += -0.0005 * param.grad\n",
        "    param.grad = 0 # Set the grads back to zero since they keep accumulating (due to +=) for each param (adding on to the lass pass' value). This is basically zero_grad() in PyTorch\n",
        "\n",
        "print(\"Loss: \", loss)\n",
        "print(\"Y pred: \", ypred)"
      ],
      "metadata": {
        "colab": {
          "base_uri": "https://localhost:8080/"
        },
        "id": "feXzqAagdoiV",
        "outputId": "67c6357e-983f-459e-f22b-e8673d96d3c8"
      },
      "id": "feXzqAagdoiV",
      "execution_count": 639,
      "outputs": [
        {
          "output_type": "stream",
          "name": "stdout",
          "text": [
            "Loss:  Value(data=0.07552144150879558)\n",
            "Y pred:  [Value(data=0.8952797402899925), Value(data=-0.8514181578084532), Value(data=-0.8609862590152525), Value(data=0.8478365198102515)]\n"
          ]
        }
      ]
    },
    {
      "cell_type": "code",
      "source": [
        "# The model params for which the loss is the lowest\n",
        "n.parameters()"
      ],
      "metadata": {
        "colab": {
          "base_uri": "https://localhost:8080/"
        },
        "id": "rrtRADHgiIeE",
        "outputId": "c5c9fec8-8204-4a24-f27d-af52f555f673"
      },
      "id": "rrtRADHgiIeE",
      "execution_count": 618,
      "outputs": [
        {
          "output_type": "execute_result",
          "data": {
            "text/plain": [
              "[Value(data=0.5564672602973388),\n",
              " Value(data=-0.3625126043459481),\n",
              " Value(data=0.045056236760723574),\n",
              " Value(data=0.6647960416937546),\n",
              " Value(data=-0.7950141044123683),\n",
              " Value(data=0.00713535008996498),\n",
              " Value(data=0.6299120885773108),\n",
              " Value(data=-0.6990185060477334),\n",
              " Value(data=-0.3138665557146776),\n",
              " Value(data=-0.20475432017606496),\n",
              " Value(data=0.4799295104251299),\n",
              " Value(data=0.4365504641598593),\n",
              " Value(data=0.11054244942002281),\n",
              " Value(data=0.5435055136478706),\n",
              " Value(data=-0.7121042963327793),\n",
              " Value(data=0.95910279184566),\n",
              " Value(data=0.7708910088420023),\n",
              " Value(data=-0.0614893249131442),\n",
              " Value(data=0.13141464550914098),\n",
              " Value(data=0.4005424866315549),\n",
              " Value(data=0.571442087692058),\n",
              " Value(data=-0.6911442793460032),\n",
              " Value(data=0.5816365486870273),\n",
              " Value(data=0.8658927607152935),\n",
              " Value(data=0.7642151228827444),\n",
              " Value(data=0.7558344096794996),\n",
              " Value(data=0.5511902204552628),\n",
              " Value(data=-0.8473850689431112),\n",
              " Value(data=0.35885425874564997),\n",
              " Value(data=-0.28887120094898056),\n",
              " Value(data=0.45436682249312715),\n",
              " Value(data=-0.4243444234945555),\n",
              " Value(data=-0.20106828949736014),\n",
              " Value(data=-0.7793439011295021),\n",
              " Value(data=0.02797956294090883),\n",
              " Value(data=0.8161129772194622),\n",
              " Value(data=0.6521454706246438),\n",
              " Value(data=-0.32169042585485963),\n",
              " Value(data=-0.44375503990594967),\n",
              " Value(data=-0.5502761727754716),\n",
              " Value(data=-0.1882004084457523)]"
            ]
          },
          "metadata": {},
          "execution_count": 618
        }
      ]
    },
    {
      "cell_type": "code",
      "source": [],
      "metadata": {
        "id": "jKaJGhHQjkAp"
      },
      "id": "jKaJGhHQjkAp",
      "execution_count": null,
      "outputs": []
    }
  ],
  "metadata": {
    "kernelspec": {
      "display_name": "Python 3 (ipykernel)",
      "language": "python",
      "name": "python3"
    },
    "language_info": {
      "codemirror_mode": {
        "name": "ipython",
        "version": 3
      },
      "file_extension": ".py",
      "mimetype": "text/x-python",
      "name": "python",
      "nbconvert_exporter": "python",
      "pygments_lexer": "ipython3",
      "version": "3.9.17"
    },
    "colab": {
      "provenance": []
    }
  },
  "nbformat": 4,
  "nbformat_minor": 5
}